{
  "nbformat": 4,
  "nbformat_minor": 0,
  "metadata": {
    "colab": {
      "provenance": [],
      "mount_file_id": "1LhpzYkg73EmtMRVMOf_IvzxJEhQchhEj",
      "authorship_tag": "ABX9TyPUw11HdPyLUbTLq4BJMdJd",
      "include_colab_link": true
    },
    "kernelspec": {
      "name": "python3",
      "display_name": "Python 3"
    },
    "language_info": {
      "name": "python"
    }
  },
  "cells": [
    {
      "cell_type": "markdown",
      "metadata": {
        "id": "view-in-github",
        "colab_type": "text"
      },
      "source": [
        "<a href=\"https://colab.research.google.com/github/davidsilrodi/python1/blob/main/phyto.ipynb\" target=\"_parent\"><img src=\"https://colab.research.google.com/assets/colab-badge.svg\" alt=\"Open In Colab\"/></a>"
      ]
    },
    {
      "cell_type": "markdown",
      "source": [
        "crear un programa que solicite:\n",
        "nombre\n",
        "apellido\n",
        "cedula\n",
        "genero\n",
        "ciudad\n",
        "fecha d/m/a\n",
        "se debe crear una frase describiendo a la persona"
      ],
      "metadata": {
        "id": "m35sp8qhHclr"
      }
    },
    {
      "cell_type": "code",
      "source": [
        "while True:\n",
        "    nombre = input(\"Ingresa un nombre: \")\n",
        "    if nombre.isalpha():\n",
        "        break\n",
        "    print(\"Entrada inválida. Solo se permiten letras.\")\n",
        "\n",
        "while True:\n",
        "    apellido = input(\"Ingresa un apellido: \")\n",
        "    if apellido.isalpha():\n",
        "        break\n",
        "    print(\"Entrada inválida. Solo se permiten letras.\")\n",
        "\n",
        "while True:\n",
        "    cedula = input(\"Ingresa tu cédula: \")\n",
        "    if cedula.isnumeric() and len(cedula) >= 10:\n",
        "        break\n",
        "    print(\"Entrada inválida. Solo se permiten números y debe tener al menos 10 dígitos.\")\n",
        "\n",
        "while True:\n",
        "    genero = input(\"Selecciona tu género (1: Masculino, 2: Femenino): \")\n",
        "    if genero == \"1\":\n",
        "        print(\"Su género es Masculino\")\n",
        "        break\n",
        "    elif genero == \"2\":\n",
        "        print(\"Su género es Femenino\")\n",
        "        break\n",
        "    else:\n",
        "        print(\"Entrada inválida. Ingresa '1' para Masculino o '2' para Femenino.\")\n",
        "while True:\n",
        "    ciudad = input(\"Ingresa tu ciudad: \")\n",
        "    if ciudad.isalpha():\n",
        "        break\n",
        "    print(\"Entrada inválida. Solo se permiten letras.\")\n",
        "\n",
        "while True:\n",
        "    fecha = input(\"Ingresa tu fecha de nacimiento (dd/mm/aaaa): \")\n",
        "    try:\n",
        "        dia, mes, anio = map(int, fecha.split('/'))\n",
        "        if 1 <= dia <= 31 and 1 <= mes <= 12 and 1900 <= anio <= 2023:\n",
        "            break\n",
        "        print(\"Entrada inválida. Ingresa una fecha válida.\")\n",
        "    except ValueError:\n",
        "        print(\"Entrada inválida. Ingresa una fecha válida.\")\n",
        "\n",
        "print(f\"El es {nombre} {apellido} su numero de cedula es {cedula}, y su genero es {genero}, y el vive en la ciudad de {ciudad}.\")"
      ],
      "metadata": {
        "id": "IvsEUHwKuO_c"
      },
      "execution_count": null,
      "outputs": []
    },
    {
      "cell_type": "markdown",
      "source": [],
      "metadata": {
        "id": "w71INuKiIWv-"
      }
    },
    {
      "cell_type": "code",
      "source": [
        "while True;\n",
        "  nombre = input(\"Ingresa un nombre: \");\n",
        "  if nombre.isalpha():\n",
        "    break;\n",
        "  print(\"Entrada inválida. Solo se permiten letras.\");\n",
        "\n",
        "while True;\n",
        "  edad = input(\"Ingresa tu edad: \");\n",
        "  if edad.isnumeric()\n",
        "    break;\n",
        "  print(\"Entrada inválida. Ingresa una edad válida.\");\n",
        "\n",
        "print(f\"El nombre es {nombre} y la edad es {edad}.\");"
      ],
      "metadata": {
        "id": "LFtzlin9uPIc"
      },
      "execution_count": null,
      "outputs": []
    },
    {
      "cell_type": "code",
      "source": [
        "while True:\n",
        "  base = input(\"Ingresa la base del rectángulo: \");\n",
        "  if base.isnumeric():\n",
        "    break;\n",
        "  print(\"Entrada inválida. Ingresa una base válida.\");\n",
        "\n",
        "while True;\n",
        "  altura = input(\"Ingresa la altura del rectángulo: \");\n",
        "  if altura.isnumeric():\n",
        "    break;\n",
        "  print(\"Entrada inválida. Ingresa una altura válida.\");\n",
        "\n",
        "  area = base * altura;\n",
        "  print(f\"El área del rectángulo es: {area}\");"
      ],
      "metadata": {
        "id": "uvf7LWS-uPO1"
      },
      "execution_count": null,
      "outputs": []
    },
    {
      "cell_type": "code",
      "source": [
        "while True:\n",
        "    millas = input(\"Ingresa la distancia en millas: \")\n",
        "    if millas.isnumeric():\n",
        "        millas = float(millas)\n",
        "        break\n",
        "    print(\"Entrada inválida. Ingresa una distancia válida.\")\n",
        "\n",
        "kilometros = millas * 1.60934\n",
        "print(f\"{millas} millas son {kilometros} kilómetros.\")\n"
      ],
      "metadata": {
        "id": "fX2UA6QeuwDs"
      },
      "execution_count": null,
      "outputs": []
    },
    {
      "cell_type": "code",
      "source": [
        "while True:\n",
        "    salario = input(\"Ingresa tu salario: \")\n",
        "    if salario.isnumeric():\n",
        "        salario = float(salario)\n",
        "        descuento = salario / 100\n",
        "        impuesto = descuento * 12\n",
        "        print(f\"El descuento por impuestos es: {impuesto}\")\n",
        "        salario_total = salario - impuesto\n",
        "        print(f\"Tu salario menos impuestos es: {salario_total}\")\n",
        "        break\n",
        "    print(\"Entrada inválida. Ingresa un salario válido.\")\n"
      ],
      "metadata": {
        "id": "lXPU8_GKx-cj"
      },
      "execution_count": null,
      "outputs": []
    },
    {
      "cell_type": "code",
      "source": [
        "while True:\n",
        "    radio = input(\"Ingresa el radio del círculo: \")\n",
        "    if radio.isnumeric():\n",
        "        radio = float(radio)\n",
        "        pi = 3.14159\n",
        "        area = pi * radio ** 2\n",
        "        print(f\"El área del círculo es: {area}\")\n",
        "        break\n",
        "    print(\"Entrada inválida. Ingresa un radio válido.\")\n"
      ],
      "metadata": {
        "id": "rZnljB2tzHzD"
      },
      "execution_count": null,
      "outputs": []
    },
    {
      "cell_type": "code",
      "source": [
        "while True:\n",
        "    dividendo = input(\"Ingresa el dividendo: \")\n",
        "    try:\n",
        "        dividendo = float(dividendo)\n",
        "        break\n",
        "    except ValueError:\n",
        "        print(\"Entrada inválida. Ingresa un número válido.\")\n",
        "\n",
        "while True:\n",
        "    divisor = input(\"Ingresa el divisor: \")\n",
        "    try:\n",
        "        divisor = float(divisor)\n",
        "        if divisor == 0:\n",
        "            print(\"Entrada inválida. El divisor no puede ser cero.\")\n",
        "        else:\n",
        "            cociente = dividendo / divisor\n",
        "            resto = dividendo % divisor\n",
        "            print(f\"El cociente de la división es: {cociente}\")\n",
        "            print(f\"El resto de la división es: {resto}\")\n",
        "            break\n",
        "    except ValueError:\n",
        "        print(\"Entrada inválida. Ingresa un número válido.\")\n"
      ],
      "metadata": {
        "id": "Ba2psTGOz7Vh"
      },
      "execution_count": null,
      "outputs": []
    },
    {
      "cell_type": "code",
      "source": [
        "while True:\n",
        "    print(\"\\nElige una conversión de tiempo:\")\n",
        "    print(\"1. Segundos a horas\")\n",
        "    print(\"2. Minutos a segundos\")\n",
        "    print(\"3. Salir\")\n",
        "\n",
        "    opcion = input(\"Ingresa tu opción: \")\n",
        "\n",
        "    if opcion == \"1\":\n",
        "        segundos = input(\"Ingresa los segundos: \")\n",
        "        if segundos.isdigit():  # Verifica que solo haya números\n",
        "            segundos = int(segundos)\n",
        "            horas = segundos / 3600\n",
        "            print(f\"{segundos} segundos son {horas} horas\")\n",
        "        else:\n",
        "            print(\"Entrada inválida. Ingresa solo números enteros.\")\n",
        "\n",
        "    elif opcion == \"2\":\n",
        "        minutos = input(\"Ingresa los minutos: \")\n",
        "        if minutos.isdigit():\n",
        "            minutos = int(minutos)\n",
        "            segundos = minutos * 60\n",
        "            print(f\"{minutos} minutos son {segundos} segundos\")\n",
        "        else:\n",
        "            print(\"Entrada inválida. Ingresa solo números enteros.\")\n",
        "\n",
        "    elif opcion == \"3\":\n",
        "        print(\"programa finalizado\")\n",
        "        break\n",
        "\n",
        "    else:\n",
        "        print(\"Entrada inválida. Ingresa una opción válida (1, 2 o 3).\")\n"
      ],
      "metadata": {
        "id": "lEkJnDzF1YnC"
      },
      "execution_count": null,
      "outputs": []
    },
    {
      "cell_type": "code",
      "source": [
        "while True:\n",
        "    while True:\n",
        "        numero1 = input(\"Ingresa el primer número: \")\n",
        "        if numero1.isnumeric():\n",
        "            numero1 = int(numero1)\n",
        "            break\n",
        "        print(\"Entrada inválida. Ingresa un número válido.\")\n",
        "\n",
        "    while True:\n",
        "        numero2 = input(\"Ingresa el segundo número: \")\n",
        "        if numero2.isnumeric():\n",
        "            numero2 = int(numero2)\n",
        "            break\n",
        "        print(\"Entrada inválida. Ingresa un número válido.\")\n",
        "\n",
        "    while True:\n",
        "        numero3 = input(\"Ingresa el tercer número: \")\n",
        "        if numero3.isnumeric():\n",
        "            numero3 = int(numero3)\n",
        "            break\n",
        "        print(\"Entrada inválida. Ingresa un número válido.\")\n",
        "\n",
        "    while True:\n",
        "        numero4 = input(\"Ingresa el cuarto número: \")\n",
        "        if numero4.isnumeric():\n",
        "            numero4 = int(numero4)\n",
        "            break\n",
        "        print(\"Entrada inválida. Ingresa un número válido.\")\n",
        "\n",
        "    while True:\n",
        "        numero5 = input(\"Ingresa el quinto número: \")\n",
        "        if numero5.isnumeric():\n",
        "            numero5 = int(numero5)\n",
        "            break\n",
        "        print(\"Entrada inválida. Ingresa un número válido.\")\n",
        "\n",
        "    suma = numero1 + numero2 + numero3 + numero4 + numero5\n",
        "    media = suma / 5\n",
        "\n",
        "    print(f\"La suma de los números es: {suma}\")\n",
        "    print(f\"La media de los números es: {media}\")\n",
        "\n",
        "    break\n",
        "    print(\"fin del programa\")"
      ],
      "metadata": {
        "colab": {
          "base_uri": "https://localhost:8080/"
        },
        "id": "FAohZ4z34Lao",
        "outputId": "8d9ee9c7-1c83-4026-c076-a5a10bb71ff7"
      },
      "execution_count": 23,
      "outputs": [
        {
          "output_type": "stream",
          "name": "stdout",
          "text": [
            "Ingresa el primer número: s\n",
            "Entrada inválida. Ingresa un número válido.\n",
            "Ingresa el primer número: 5\n",
            "Ingresa el segundo número: 5\n",
            "Ingresa el tercer número: 5\n",
            "Ingresa el cuarto número: 5\n",
            "Ingresa el quinto número: 5\n",
            "La suma de los números es: 25\n",
            "La media de los números es: 5.0\n"
          ]
        }
      ]
    }
  ]
}
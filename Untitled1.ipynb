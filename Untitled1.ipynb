{
  "nbformat": 4,
  "nbformat_minor": 0,
  "metadata": {
    "colab": {
      "provenance": [],
      "mount_file_id": "1LhpzYkg73EmtMRVMOf_IvzxJEhQchhEj",
      "authorship_tag": "ABX9TyMS26fjf+Id5MccMCvlDa3D",
      "include_colab_link": true
    },
    "kernelspec": {
      "name": "python3",
      "display_name": "Python 3"
    },
    "language_info": {
      "name": "python"
    }
  },
  "cells": [
    {
      "cell_type": "markdown",
      "metadata": {
        "id": "view-in-github",
        "colab_type": "text"
      },
      "source": [
        "<a href=\"https://colab.research.google.com/github/davidsilrodi/python1/blob/main/Untitled1.ipynb\" target=\"_parent\"><img src=\"https://colab.research.google.com/assets/colab-badge.svg\" alt=\"Open In Colab\"/></a>"
      ]
    },
    {
      "cell_type": "code",
      "execution_count": null,
      "metadata": {
        "id": "1LrKGb-do-9V"
      },
      "outputs": [],
      "source": [
        "while True;\n",
        "  nombre = input(\"Ingresa un nombre: \");\n",
        "  if nombre.isalpha():\n",
        "    break;\n",
        "  print(\"Entrada inválida. Solo se permiten letras.\");\n",
        "\n",
        "while True;\n",
        "  edad = input(\"Ingresa tu edad: \");\n",
        "  if edad.isnumeric()\n",
        "    break;\n",
        "  print(\"Entrada inválida. Ingresa una edad válida.\");\n",
        "\n",
        "print(f\"El nombre es {nombre} y la edad es {edad}.\");"
      ]
    }
  ]
}
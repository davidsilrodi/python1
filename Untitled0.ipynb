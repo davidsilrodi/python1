{
  "nbformat": 4,
  "nbformat_minor": 0,
  "metadata": {
    "colab": {
      "provenance": [],
      "mount_file_id": "1LhpzYkg73EmtMRVMOf_IvzxJEhQchhEj",
      "authorship_tag": "ABX9TyMsESgWKMTn7D8uU/76Eymt",
      "include_colab_link": true
    },
    "kernelspec": {
      "name": "python3",
      "display_name": "Python 3"
    },
    "language_info": {
      "name": "python"
    }
  },
  "cells": [
    {
      "cell_type": "markdown",
      "metadata": {
        "id": "view-in-github",
        "colab_type": "text"
      },
      "source": [
        "<a href=\"https://colab.research.google.com/github/davidsilrodi/python1/blob/main/Untitled0.ipynb\" target=\"_parent\"><img src=\"https://colab.research.google.com/assets/colab-badge.svg\" alt=\"Open In Colab\"/></a>"
      ]
    },
    {
      "cell_type": "code",
      "source": [
        "while True:\n",
        "    nombre = input(\"Ingresa un nombre: \")\n",
        "    if nombre.isalpha():\n",
        "        break\n",
        "    print(\"Entrada inválida. Solo se permiten letras.\")\n",
        "\n",
        "while True:\n",
        "    apellido = input(\"Ingresa un apellido: \")\n",
        "    if apellido.isalpha():\n",
        "        break\n",
        "    print(\"Entrada inválida. Solo se permiten letras.\")\n",
        "\n",
        "while True:\n",
        "    cedula = input(\"Ingresa tu cédula: \")\n",
        "    if cedula.isnumeric() and len(cedula) >= 10:\n",
        "        break\n",
        "    print(\"Entrada inválida. Solo se permiten números y debe tener al menos 10 dígitos.\")\n",
        "\n",
        "while True:\n",
        "    genero = input(\"Selecciona tu género (1: Masculino, 2: Femenino): \")\n",
        "    if genero == \"1\":\n",
        "        print(\"Su género es Masculino\")\n",
        "        break\n",
        "    elif genero == \"2\":\n",
        "        print(\"Su género es Femenino\")\n",
        "        break\n",
        "    else:\n",
        "        print(\"Entrada inválida. Ingresa '1' para Masculino o '2' para Femenino.\")\n",
        "while True:\n",
        "    ciudad = input(\"Ingresa tu ciudad: \")\n",
        "    if ciudad.isalpha():\n",
        "        break\n",
        "    print(\"Entrada inválida. Solo se permiten letras.\")\n",
        "\n",
        "while True:\n",
        "    fecha = input(\"Ingresa tu fecha de nacimiento (dd/mm/aaaa): \")\n",
        "    try:\n",
        "        dia, mes, anio = map(int, fecha.split('/'))\n",
        "        if 1 <= dia <= 31 and 1 <= mes <= 12 and 1900 <= anio <= 2023:\n",
        "            break\n",
        "        print(\"Entrada inválida. Ingresa una fecha válida.\")\n",
        "    except ValueError:\n",
        "        print(\"Entrada inválida. Ingresa una fecha válida.\")\n",
        "\n",
        "print(f\"El es {nombre} {apellido} su numero de cedula es {cedula}, y su genero es {genero}, y el vive en la ciudad de {ciudad}.\")"
      ],
      "metadata": {
        "id": "IvsEUHwKuO_c"
      },
      "execution_count": null,
      "outputs": []
    },
    {
      "cell_type": "code",
      "source": [
        "while True;\n",
        "  nombre = input(\"Ingresa un nombre: \");\n",
        "  if nombre.isalpha():\n",
        "    break;\n",
        "  print(\"Entrada inválida. Solo se permiten letras.\");\n",
        "\n",
        "while True;\n",
        "  edad = input(\"Ingresa tu edad: \");\n",
        "  if edad.isnumeric()\n",
        "    break;\n",
        "  print(\"Entrada inválida. Ingresa una edad válida.\");\n",
        "\n",
        "print(f\"El nombre es {nombre} y la edad es {edad}.\");"
      ],
      "metadata": {
        "id": "LFtzlin9uPIc"
      },
      "execution_count": null,
      "outputs": []
    },
    {
      "cell_type": "code",
      "source": [
        "while True;\n",
        "  base = input(\"Ingresa la base del rectángulo: \");\n",
        "  if base.isnumeric():\n",
        "    break;\n",
        "  print(\"Entrada inválida. Ingresa una base válida.\");\n",
        "\n",
        "while True;\n",
        "  altura = input(\"Ingresa la altura del rectángulo: \");\n",
        "  if altura.isnumeric():\n",
        "    break;\n",
        "  print(\"Entrada inválida. Ingresa una altura válida.\");\n",
        "\n",
        "  area = base * altura;\n",
        "  print(f\"El área del rectángulo es: {area}\");"
      ],
      "metadata": {
        "id": "uvf7LWS-uPO1"
      },
      "execution_count": null,
      "outputs": []
    },
    {
      "cell_type": "code",
      "source": [
        "while True:\n",
        "    millas = input(\"Ingresa la distancia en millas: \")\n",
        "    if millas.isnumeric():  # Verifica si es un número\n",
        "        millas = float(millas)  # Convierte a número\n",
        "        break\n",
        "    print(\"Entrada inválida. Ingresa una distancia válida.\")\n",
        "\n",
        "kilometros = millas * 1.60934\n",
        "print(f\"{millas} millas son {kilometros} kilómetros.\")\n"
      ],
      "metadata": {
        "id": "fX2UA6QeuwDs"
      },
      "execution_count": null,
      "outputs": []
    },
    {
      "cell_type": "code",
      "source": [
        "while True:\n",
        "    salario = input(\"Ingresa tu salario: \")\n",
        "    if salario.isnumeric():\n",
        "        salario = float(salario)\n",
        "        descuento = salario / 100\n",
        "        impuesto = descuento * 12\n",
        "        print(f\"El descuento por impuestos es: {impuesto}\")\n",
        "        salario_total = salario - impuesto\n",
        "        print(f\"Tu salario menos impuestos es: {salario_total}\")\n",
        "        break\n",
        "    print(\"Entrada inválida. Ingresa un salario válido.\")\n"
      ],
      "metadata": {
        "colab": {
          "base_uri": "https://localhost:8080/"
        },
        "id": "lXPU8_GKx-cj",
        "outputId": "c99810d3-92ae-4d5a-9cb0-b183619bcaea"
      },
      "execution_count": 11,
      "outputs": [
        {
          "output_type": "stream",
          "name": "stdout",
          "text": [
            "Ingresa tu salario: 1000000\n",
            "El descuento por impuestos es: 120000.0\n",
            "Tu salario menos impuestos es: 880000.0\n"
          ]
        }
      ]
    },
    {
      "cell_type": "code",
      "source": [
        "while True:\n",
        "    radio = input(\"Ingresa el radio del círculo: \")\n",
        "    if radio.isnumeric():\n",
        "        radio = float(radio)\n",
        "        pi = 3.14159\n",
        "        area = pi * radio ** 2\n",
        "        print(f\"El área del círculo es: {area}\")\n",
        "        break\n",
        "    print(\"Entrada inválida. Ingresa un radio válido.\")\n"
      ],
      "metadata": {
        "colab": {
          "base_uri": "https://localhost:8080/"
        },
        "id": "rZnljB2tzHzD",
        "outputId": "eb319a6a-13ba-4251-b6ec-c00e952aaa09"
      },
      "execution_count": 14,
      "outputs": [
        {
          "output_type": "stream",
          "name": "stdout",
          "text": [
            "Ingresa el radio del círculo: 5\n",
            "El área del círculo es: 78.53975\n"
          ]
        }
      ]
    },
    {
      "cell_type": "code",
      "source": [
        "while True:\n",
        "    dividendo = input(\"Ingresa el dividendo: \")\n",
        "    try:\n",
        "        dividendo = float(dividendo)\n",
        "        break\n",
        "    except ValueError:\n",
        "        print(\"Entrada inválida. Ingresa un número válido.\")\n",
        "\n",
        "while True:\n",
        "    divisor = input(\"Ingresa el divisor: \")\n",
        "    try:\n",
        "        divisor = float(divisor)\n",
        "        if divisor == 0:\n",
        "            print(\"Entrada inválida. El divisor no puede ser cero.\")\n",
        "        else:\n",
        "            cociente = dividendo / divisor\n",
        "            resto = dividendo % divisor\n",
        "            print(f\"El cociente de la división es: {cociente}\")\n",
        "            print(f\"El resto de la división es: {resto}\")\n",
        "            break\n",
        "    except ValueError:\n",
        "        print(\"Entrada inválida. Ingresa un número válido.\")\n"
      ],
      "metadata": {
        "colab": {
          "base_uri": "https://localhost:8080/"
        },
        "id": "Ba2psTGOz7Vh",
        "outputId": "968de3df-15e7-4ab0-9880-53c6afd79c06"
      },
      "execution_count": 17,
      "outputs": [
        {
          "output_type": "stream",
          "name": "stdout",
          "text": [
            "Ingresa el dividendo: awd\n",
            "Entrada inválida. Ingresa un número válido.\n",
            "Ingresa el dividendo: 4654\n",
            "Ingresa el divisor: awd\n",
            "Entrada inválida. Ingresa un número válido.\n",
            "Ingresa el divisor: 2\n",
            "El cociente de la división es: 2327.0\n",
            "El resto de la división es: 0.0\n"
          ]
        }
      ]
    },
    {
      "cell_type": "code",
      "source": [],
      "metadata": {
        "id": "lEkJnDzF1YnC"
      },
      "execution_count": null,
      "outputs": []
    }
  ]
}